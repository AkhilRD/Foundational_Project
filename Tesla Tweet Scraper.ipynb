{
 "cells": [
  {
   "cell_type": "code",
   "execution_count": 30,
   "id": "f386f4d1",
   "metadata": {},
   "outputs": [],
   "source": [
    "import snscrape.modules.twitter as sntwitter\n",
    "import pandas as pd"
   ]
  },
  {
   "cell_type": "code",
   "execution_count": 31,
   "id": "3ae15c68",
   "metadata": {},
   "outputs": [],
   "source": [
    "# query = \"tesla Tesla TSLA TESLA  min_faves:100 lang:en until:2022-06-29 since:2020-06-26\"\n",
    "# tweets = []\n",
    "\n",
    "query = \"MSFT Microsoft min_faves:100 lang:en until:2022-06-30 since:2022-01-01\"\n",
    "tweets = []"
   ]
  },
  {
   "cell_type": "code",
   "execution_count": 32,
   "id": "f1063ed9",
   "metadata": {},
   "outputs": [
    {
     "name": "stdout",
     "output_type": "stream",
     "text": [
      "                       Date             User  \\\n",
      "0 2022-06-29 23:00:11+00:00     MsftSecIntel   \n",
      "1 2022-06-28 18:00:03+00:00      MSFTGameDev   \n",
      "2 2022-06-27 15:56:08+00:00      maryjofoley   \n",
      "3 2022-06-25 21:16:01+00:00    itsloganjones   \n",
      "4 2022-06-25 17:32:07+00:00  SteveWagsInvest   \n",
      "\n",
      "                                               Tweet  \n",
      "0  We observed notable updates to the long-runnin...  \n",
      "1  👩‍🍳 Add a touch of spice to your game with Xbo...  \n",
      "2  Wow. @jsnover is leaving Microsoft as of Frida...  \n",
      "3  Dividends can be a long term growth opportunit...  \n",
      "4  List of Dividend Stocks to Buy &amp; Hold Fore...  \n"
     ]
    }
   ],
   "source": [
    "for tweet in sntwitter.TwitterSearchScraper(query).get_items():\n",
    "    tweets.append([tweet.date,tweet.user.username,tweet.content])\n",
    "\n",
    "df = pd.DataFrame(tweets,columns = ['Date','User','Tweet']) \n",
    "print(df.head())"
   ]
  },
  {
   "cell_type": "code",
   "execution_count": 33,
   "id": "d1ce17d0",
   "metadata": {},
   "outputs": [
    {
     "data": {
      "text/plain": [
       "(136, 3)"
      ]
     },
     "execution_count": 33,
     "metadata": {},
     "output_type": "execute_result"
    }
   ],
   "source": [
    "df.shape"
   ]
  },
  {
   "cell_type": "code",
   "execution_count": 34,
   "id": "140ac2fe",
   "metadata": {},
   "outputs": [],
   "source": [
    "df.to_csv(\"Microsoft_Tweets.csv\")"
   ]
  },
  {
   "cell_type": "code",
   "execution_count": null,
   "id": "7cf74924",
   "metadata": {},
   "outputs": [],
   "source": []
  }
 ],
 "metadata": {
  "kernelspec": {
   "display_name": "Python 3 (ipykernel)",
   "language": "python",
   "name": "python3"
  },
  "language_info": {
   "codemirror_mode": {
    "name": "ipython",
    "version": 3
   },
   "file_extension": ".py",
   "mimetype": "text/x-python",
   "name": "python",
   "nbconvert_exporter": "python",
   "pygments_lexer": "ipython3",
   "version": "3.9.7"
  }
 },
 "nbformat": 4,
 "nbformat_minor": 5
}
